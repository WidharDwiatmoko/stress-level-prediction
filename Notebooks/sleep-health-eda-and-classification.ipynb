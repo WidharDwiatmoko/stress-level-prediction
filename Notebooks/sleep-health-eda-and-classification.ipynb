{
 "cells": [
  {
   "cell_type": "markdown",
   "metadata": {},
   "source": [
    "# Sleep Health Exploratory Data Analysis and Classification\n",
    "The dataset covers a wide range of variables related to sleep and daily habits \n",
    "\n",
    "### Key Features of the Dataset:\n",
    "* Comprehensive Sleep Metrics: Explore sleep duration, quality, and factors influencing sleep patterns.\n",
    "* Lifestyle Factors: Analyze physical activity levels, stress levels, and BMI categories.\n",
    "* Cardiovascular Health: Examine blood pressure and heart rate measurements.\n",
    "* Sleep Disorder Analysis: Identify the occurrence of sleep disorders such as Insomnia and Sleep Apnea.\n",
    "\n",
    "### In this notebook:\n",
    "* The dataset is explored with helpful charts that give an initial view on the data\n",
    "* The data is cleaned and prepared for creating the machine learning models\n",
    "* Several models are created and compared based on meaningful metrics"
   ]
  },
  {
   "cell_type": "code",
   "execution_count": null,
   "metadata": {
    "execution": {
     "iopub.execute_input": "2023-08-06T19:14:03.645123Z",
     "iopub.status.busy": "2023-08-06T19:14:03.644544Z",
     "iopub.status.idle": "2023-08-06T19:14:06.367365Z",
     "shell.execute_reply": "2023-08-06T19:14:06.365563Z",
     "shell.execute_reply.started": "2023-08-06T19:14:03.645091Z"
    }
   },
   "outputs": [],
   "source": [
    "# Importing Libraries\n",
    "\n",
    "import numpy as np\n",
    "import pandas as pd\n",
    "import matplotlib.pyplot as plt\n",
    "import seaborn as sns\n",
    "\n",
    "import plotly.express as px\n",
    "\n",
    "\n",
    "from sklearn.preprocessing import StandardScaler, LabelEncoder\n",
    "\n",
    "from sklearn.model_selection import train_test_split\n",
    "from sklearn.model_selection import cross_val_score\n",
    "from sklearn.model_selection import KFold\n",
    "from sklearn.metrics import accuracy_score, confusion_matrix\n",
    "from xgboost import XGBClassifier\n",
    "from sklearn.ensemble import RandomForestClassifier\n",
    "from sklearn.svm import SVC\n",
    "from sklearn.linear_model import LogisticRegression\n",
    "from sklearn.neighbors import KNeighborsClassifier\n",
    "from sklearn.tree import DecisionTreeClassifier\n",
    "\n",
    "from sklearn.metrics import accuracy_score, precision_score, recall_score, f1_score\n",
    "from sklearn.metrics import classification_report"
   ]
  },
  {
   "cell_type": "markdown",
   "metadata": {},
   "source": [
    "## 1. Data Loading"
   ]
  },
  {
   "cell_type": "code",
   "execution_count": null,
   "metadata": {
    "execution": {
     "iopub.execute_input": "2023-08-06T19:14:06.369708Z",
     "iopub.status.busy": "2023-08-06T19:14:06.369361Z",
     "iopub.status.idle": "2023-08-06T19:14:07.478632Z",
     "shell.execute_reply": "2023-08-06T19:14:07.473386Z",
     "shell.execute_reply.started": "2023-08-06T19:14:06.369677Z"
    }
   },
   "outputs": [],
   "source": [
    "# For kaggle\n",
    "sleep_data = pd.read_csv('/kaggle/input/sleep-health-and-lifestyle-dataset/Sleep_health_and_lifestyle_dataset.csv')\n",
    "\n",
    "# For local\n",
    "#sleep_data = pd.read_csv('Sleep_health_and_lifestyle_dataset.csv')\n",
    "sleep_data.head()"
   ]
  },
  {
   "cell_type": "code",
   "execution_count": null,
   "metadata": {
    "execution": {
     "iopub.status.busy": "2023-08-06T19:14:07.479512Z",
     "iopub.status.idle": "2023-08-06T19:14:07.479920Z",
     "shell.execute_reply": "2023-08-06T19:14:07.479753Z",
     "shell.execute_reply.started": "2023-08-06T19:14:07.479733Z"
    }
   },
   "outputs": [],
   "source": [
    "sleep_data.shape"
   ]
  },
  {
   "cell_type": "code",
   "execution_count": null,
   "metadata": {
    "execution": {
     "iopub.status.busy": "2023-08-06T19:14:07.481491Z",
     "iopub.status.idle": "2023-08-06T19:14:07.481891Z",
     "shell.execute_reply": "2023-08-06T19:14:07.481704Z",
     "shell.execute_reply.started": "2023-08-06T19:14:07.481687Z"
    }
   },
   "outputs": [],
   "source": [
    "# Person ID is not needed for the model\n",
    "sleep_data.drop(columns='Person ID',inplace=True)"
   ]
  },
  {
   "cell_type": "code",
   "execution_count": null,
   "metadata": {
    "execution": {
     "iopub.status.busy": "2023-08-06T19:14:07.483111Z",
     "iopub.status.idle": "2023-08-06T19:14:07.483491Z",
     "shell.execute_reply": "2023-08-06T19:14:07.483331Z",
     "shell.execute_reply.started": "2023-08-06T19:14:07.483314Z"
    }
   },
   "outputs": [],
   "source": [
    "# Renaming columns to lowercase and replacing spaces with underscores\n",
    "sleep_data.columns = [i.lower().replace(' ', '_') for i in sleep_data.columns]"
   ]
  },
  {
   "cell_type": "code",
   "execution_count": null,
   "metadata": {
    "execution": {
     "iopub.status.busy": "2023-08-06T19:14:07.486094Z",
     "iopub.status.idle": "2023-08-06T19:14:07.486969Z",
     "shell.execute_reply": "2023-08-06T19:14:07.486782Z",
     "shell.execute_reply.started": "2023-08-06T19:14:07.486753Z"
    }
   },
   "outputs": [],
   "source": [
    "sleep_data.head()"
   ]
  },
  {
   "cell_type": "code",
   "execution_count": null,
   "metadata": {
    "execution": {
     "iopub.status.busy": "2023-08-06T19:14:07.488583Z",
     "iopub.status.idle": "2023-08-06T19:14:07.489000Z",
     "shell.execute_reply": "2023-08-06T19:14:07.488829Z",
     "shell.execute_reply.started": "2023-08-06T19:14:07.488809Z"
    }
   },
   "outputs": [],
   "source": [
    "sleep_data.info()"
   ]
  },
  {
   "cell_type": "code",
   "execution_count": null,
   "metadata": {
    "execution": {
     "iopub.status.busy": "2023-08-06T19:14:07.490488Z",
     "iopub.status.idle": "2023-08-06T19:14:07.491174Z",
     "shell.execute_reply": "2023-08-06T19:14:07.491005Z",
     "shell.execute_reply.started": "2023-08-06T19:14:07.490985Z"
    }
   },
   "outputs": [],
   "source": [
    "sleep_data.isna().sum()"
   ]
  },
  {
   "cell_type": "markdown",
   "metadata": {},
   "source": [
    "There are no null values in the dataset"
   ]
  },
  {
   "cell_type": "markdown",
   "metadata": {},
   "source": [
    "Splitting the `blood_pressure` data into `systolic` and diastolic `columns`"
   ]
  },
  {
   "cell_type": "code",
   "execution_count": null,
   "metadata": {
    "execution": {
     "iopub.status.busy": "2023-08-06T19:14:07.492404Z",
     "iopub.status.idle": "2023-08-06T19:14:07.492800Z",
     "shell.execute_reply": "2023-08-06T19:14:07.492606Z",
     "shell.execute_reply.started": "2023-08-06T19:14:07.492590Z"
    }
   },
   "outputs": [],
   "source": [
    "sleep_data.blood_pressure.unique()"
   ]
  },
  {
   "cell_type": "code",
   "execution_count": null,
   "metadata": {
    "execution": {
     "iopub.status.busy": "2023-08-06T19:14:07.494980Z",
     "iopub.status.idle": "2023-08-06T19:14:07.495855Z",
     "shell.execute_reply": "2023-08-06T19:14:07.495657Z",
     "shell.execute_reply.started": "2023-08-06T19:14:07.495638Z"
    }
   },
   "outputs": [],
   "source": [
    "# Splitting the blood pressure into two columns so it can be processed and visualized easier\n",
    "sleep_data[['systolic', 'diastolic']\n",
    "           ] = sleep_data.blood_pressure.str.split('/', expand=True)\n",
    "\n",
    "sleep_data['systolic'] = sleep_data['systolic'].astype('int')\n",
    "sleep_data['diastolic'] = sleep_data['diastolic'].astype('int')\n",
    "sleep_data.drop('blood_pressure', axis=1, inplace=True)"
   ]
  },
  {
   "cell_type": "markdown",
   "metadata": {},
   "source": [
    "## 2. Exploratory Data Analysis"
   ]
  },
  {
   "cell_type": "markdown",
   "metadata": {},
   "source": [
    "### Based on the gender"
   ]
  },
  {
   "cell_type": "code",
   "execution_count": null,
   "metadata": {
    "execution": {
     "iopub.status.busy": "2023-08-06T19:14:07.496817Z",
     "iopub.status.idle": "2023-08-06T19:14:07.497567Z",
     "shell.execute_reply": "2023-08-06T19:14:07.497394Z",
     "shell.execute_reply.started": "2023-08-06T19:14:07.497371Z"
    }
   },
   "outputs": [],
   "source": [
    "# A pie chart representing the percentages of males and females\n",
    "plt.pie(sleep_data['gender'].value_counts().values,\n",
    "        labels=sleep_data['gender'].value_counts().index, autopct='%1.1f%%', startangle=140)\n",
    "\n",
    "plt.title('Gender Distribution')\n",
    "\n",
    "plt.show()"
   ]
  },
  {
   "cell_type": "code",
   "execution_count": null,
   "metadata": {
    "execution": {
     "iopub.status.busy": "2023-08-06T19:14:07.499078Z",
     "iopub.status.idle": "2023-08-06T19:14:07.499445Z",
     "shell.execute_reply": "2023-08-06T19:14:07.499291Z",
     "shell.execute_reply.started": "2023-08-06T19:14:07.499274Z"
    }
   },
   "outputs": [],
   "source": [
    "# Grouping The occupation column by gender to see if some occupations are dominated by either gender\n",
    "gender_by_occupation = sleep_data.groupby(\n",
    "    ['occupation', 'gender']).size().reset_index(name='count')\n",
    "\n",
    "gender_colors = {'Male': 'blue', 'Female': 'red'}\n",
    "\n",
    "# Sort the data by count\n",
    "gender_by_occupation = gender_by_occupation.sort_values(\n",
    "    by='count', ascending=False)\n",
    "\n",
    "\n",
    "# Plot the data\n",
    "sns.barplot(y='count', x='occupation', hue='gender', data=gender_by_occupation,\n",
    "            palette=gender_colors, width=0.8)\n",
    "\n",
    "# Set the title and axis labels\n",
    "plt.title('Occupation Distribution by Gender')\n",
    "plt.xlabel('Occupation')\n",
    "plt.ylabel('Count')\n",
    "\n",
    "plt.xticks(rotation=45, ha='right')\n",
    "\n",
    "\n",
    "# Show the plot\n",
    "plt.show()"
   ]
  },
  {
   "cell_type": "code",
   "execution_count": null,
   "metadata": {
    "execution": {
     "iopub.status.busy": "2023-08-06T19:14:07.501170Z",
     "iopub.status.idle": "2023-08-06T19:14:07.501968Z",
     "shell.execute_reply": "2023-08-06T19:14:07.501764Z",
     "shell.execute_reply.started": "2023-08-06T19:14:07.501739Z"
    }
   },
   "outputs": [],
   "source": [
    "# Grouping the BMI Category by Gender\n",
    "gender_by_bmi = sleep_data.groupby(\n",
    "    ['bmi_category', 'gender']).size().reset_index(name='count')\n",
    "\n",
    "gender_colors = {'Male': 'blue', 'Female': 'red'}\n",
    "\n",
    "# Sort the data by count\n",
    "gender_by_bmi = gender_by_bmi.sort_values(\n",
    "    by='count', ascending=False)\n",
    "\n",
    "\n",
    "# Plot the data\n",
    "sns.barplot(y='count', x='bmi_category', hue='gender', data=gender_by_bmi,\n",
    "            palette=gender_colors, width=0.8)\n",
    "\n",
    "# Set the title and axis labels\n",
    "plt.title('BMI Category Distribution by Gender')\n",
    "plt.xlabel('BMI Category')\n",
    "plt.ylabel('Count')\n",
    "\n",
    "plt.xticks(rotation=45, ha='right')\n",
    "\n",
    "\n",
    "# Show the plot\n",
    "plt.show()"
   ]
  },
  {
   "cell_type": "code",
   "execution_count": null,
   "metadata": {
    "execution": {
     "iopub.status.busy": "2023-08-06T19:14:07.503263Z",
     "iopub.status.idle": "2023-08-06T19:14:07.504240Z",
     "shell.execute_reply": "2023-08-06T19:14:07.504022Z",
     "shell.execute_reply.started": "2023-08-06T19:14:07.503995Z"
    }
   },
   "outputs": [],
   "source": [
    "# Grouping the sleep duration column by the gender\n",
    "sleep_duration_by_gender = sleep_data.groupby(\n",
    "    ['sleep_duration', 'gender']).size().reset_index(name='count')\n",
    "\n",
    "gender_colors = {'Male': 'blue', 'Female': 'red'}\n",
    "\n",
    "# Sort the data by count\n",
    "sleep_duration_by_gender = sleep_duration_by_gender.sort_values(\n",
    "    by='count', ascending=False)\n",
    "\n",
    "\n",
    "# Plot the data\n",
    "sns.boxplot(y='sleep_duration', x='gender', data=sleep_duration_by_gender,\n",
    "            palette=gender_colors,)\n",
    "\n",
    "# Set the title and axis labels\n",
    "plt.title('Sleep Duration Distribution by Gender')\n",
    "plt.xlabel('Gender')\n",
    "plt.ylabel('Sleep Duration (hours)')\n",
    "\n",
    "# Show the plot\n",
    "plt.show()"
   ]
  },
  {
   "cell_type": "code",
   "execution_count": null,
   "metadata": {
    "execution": {
     "iopub.status.busy": "2023-08-06T19:14:07.505547Z",
     "iopub.status.idle": "2023-08-06T19:14:07.505925Z",
     "shell.execute_reply": "2023-08-06T19:14:07.505769Z",
     "shell.execute_reply.started": "2023-08-06T19:14:07.505747Z"
    }
   },
   "outputs": [],
   "source": [
    "# Grouping the quality of sleep column by gender\n",
    "sleep_quality_by_gender = sleep_data.groupby(\n",
    "    ['quality_of_sleep', 'gender']).size().reset_index(name='count')\n",
    "\n",
    "gender_colors = {'Male': 'blue', 'Female': 'red'}\n",
    "\n",
    "# Sort the data by count\n",
    "sleep_quality_by_gender = sleep_quality_by_gender.sort_values(\n",
    "    by='count', ascending=False)\n",
    "\n",
    "\n",
    "# Plot the data\n",
    "sns.boxplot(y='quality_of_sleep', x='gender', data=sleep_quality_by_gender,\n",
    "            palette=gender_colors,)\n",
    "\n",
    "# Set the title and axis labels\n",
    "plt.title('Sleep Quality Distribution by Gender')\n",
    "plt.xlabel('Gender')\n",
    "plt.ylabel('Sleep Quality (1-10)')\n",
    "\n",
    "# Show the plot\n",
    "plt.show()"
   ]
  },
  {
   "cell_type": "markdown",
   "metadata": {},
   "source": [
    "***Main Conclusions***\n",
    "* The dataset exhibits a nearly equal distribution of gender, with approximately half of the observations belonging to males and the other half to females.\n",
    "\n",
    "* In the dataset, a significant number of occupations display gender dominance, wherein one gender constitutes a substantially higher proportion within specific professions.\n",
    "\n",
    "* An interesting finding within the dataset reveals a notable disparity between genders concerning weight issues. Females are observed to be considerably more susceptible to weight-related problems compared to males.\n",
    "\n",
    "* The dataset's analysis also highlights variations in sleep duration between genders. On average, females tend to have a longer duration of sleep compared to their males.\n",
    "\n",
    "* There is a similarity in the reported sleep quality between males and females, with both genders typically rating their sleep quality within the range of 6 to 8 on a scale of 1 to 10."
   ]
  },
  {
   "cell_type": "markdown",
   "metadata": {},
   "source": [
    "### Based on the Occupation"
   ]
  },
  {
   "cell_type": "code",
   "execution_count": null,
   "metadata": {
    "execution": {
     "iopub.status.busy": "2023-08-06T19:14:07.507080Z",
     "iopub.status.idle": "2023-08-06T19:14:07.507433Z",
     "shell.execute_reply": "2023-08-06T19:14:07.507279Z",
     "shell.execute_reply.started": "2023-08-06T19:14:07.507263Z"
    }
   },
   "outputs": [],
   "source": [
    "# Sorting the occupations by number of people who belong to them\n",
    "occupation_counts = sleep_data['occupation'].value_counts(\n",
    ").sort_values(ascending=False)\n",
    "\n",
    "\n",
    "sns.barplot(x=occupation_counts.index, y=occupation_counts.values)\n",
    "\n",
    "# Setting titles\n",
    "plt.title('Occupation Distribution')\n",
    "plt.xlabel('Occupation')\n",
    "plt.ylabel('Count')\n",
    "\n",
    "plt.xticks(rotation=45, ha='right')\n",
    "\n",
    "plt.show()"
   ]
  },
  {
   "cell_type": "code",
   "execution_count": null,
   "metadata": {
    "execution": {
     "iopub.status.busy": "2023-08-06T19:14:07.508639Z",
     "iopub.status.idle": "2023-08-06T19:14:07.509419Z",
     "shell.execute_reply": "2023-08-06T19:14:07.509249Z",
     "shell.execute_reply.started": "2023-08-06T19:14:07.509230Z"
    }
   },
   "outputs": [],
   "source": [
    "# Grouping the sleep duration column by the occupation\n",
    "sleep_duration_by_occupation = sleep_data.groupby(\n",
    "    ['sleep_duration', 'occupation']).size().reset_index(name='count')\n",
    "\n",
    "\n",
    "# Sort the data by count\n",
    "sleep_duration_by_occupation = sleep_duration_by_occupation.sort_values(\n",
    "    by='count', ascending=False)\n",
    "\n",
    "\n",
    "# Plot the data\n",
    "sns.boxplot(y='sleep_duration', x='occupation',\n",
    "            data=sleep_duration_by_occupation)\n",
    "\n",
    "# Set the title and axis labels\n",
    "plt.title('Sleep Duration Distribution by Occupation')\n",
    "plt.xlabel('Occupation')\n",
    "plt.ylabel('Sleep Duration')\n",
    "\n",
    "\n",
    "plt.xticks(rotation=45, ha='right')\n",
    "\n",
    "# Show the plot\n",
    "plt.show()"
   ]
  },
  {
   "cell_type": "code",
   "execution_count": null,
   "metadata": {
    "execution": {
     "iopub.status.busy": "2023-08-06T19:14:07.510760Z",
     "iopub.status.idle": "2023-08-06T19:14:07.511462Z",
     "shell.execute_reply": "2023-08-06T19:14:07.511299Z",
     "shell.execute_reply.started": "2023-08-06T19:14:07.511280Z"
    }
   },
   "outputs": [],
   "source": [
    "# Grouping the quality of sleep column by the occupation\n",
    "sleep_quality_by_occupation = sleep_data.groupby(\n",
    "    ['quality_of_sleep', 'occupation']).size().reset_index(name='count')\n",
    "\n",
    "\n",
    "# Sort the data by count\n",
    "sleep_quality_by_occupation = sleep_quality_by_occupation.sort_values(\n",
    "    by='count', ascending=False)\n",
    "\n",
    "\n",
    "# Plot the data\n",
    "sns.boxplot(y='quality_of_sleep', x='occupation',\n",
    "            data=sleep_quality_by_occupation)\n",
    "\n",
    "# Set the title and axis labels\n",
    "plt.title('Sleep Quality Distribution by Occupation')\n",
    "plt.xlabel('Occupation')\n",
    "plt.ylabel('Sleep Quality')\n",
    "\n",
    "\n",
    "plt.xticks(rotation=45, ha='right')\n",
    "\n",
    "# Show the plot\n",
    "plt.show()"
   ]
  },
  {
   "cell_type": "markdown",
   "metadata": {},
   "source": [
    "***Main Conclusions***\n",
    "* The dataset reveals substantial variations in sleep durations among different occupations. Salespersons, teachers, nurses and accountants tend to report the lowest sleep durations, while lawyers, engineers, and doctors report the longest sleep durations. Among doctors and nurses, there is considerable variation, with doctors reporting the most sleep and nurses having significantly less sleep.\n",
    "\n",
    "* In terms of sleep quality, as measured on a scale of 1 to 10, the majority of occupations reported comparable values, with a predominant concentration falling between 6 and 8. However, notable differences can be observed within specific professions. Accountants and lawyers tend to have higher reported sleep quality, while salespersons and teachers reported lower sleep quality scores."
   ]
  },
  {
   "cell_type": "code",
   "execution_count": null,
   "metadata": {
    "execution": {
     "iopub.status.busy": "2023-08-06T19:14:07.514572Z",
     "iopub.status.idle": "2023-08-06T19:14:07.515465Z",
     "shell.execute_reply": "2023-08-06T19:14:07.515211Z",
     "shell.execute_reply.started": "2023-08-06T19:14:07.515185Z"
    }
   },
   "outputs": [],
   "source": [
    "# Plotting the Age Distrubution in the dataset\n",
    "plt.figure(figsize=(8, 6))\n",
    "\n",
    "sns.histplot(data=sleep_data['age'], bins=20,\n",
    "             color='blue', alpha=0.5)\n",
    "\n",
    "plt.title('Age Distribution')\n",
    "plt.xlabel('Age')\n",
    "plt.ylabel('Count')\n",
    "\n",
    "plt.show()"
   ]
  },
  {
   "cell_type": "markdown",
   "metadata": {},
   "source": [
    "* The age distribution in the dataset spans from the late 20s to the late 50s, with a notable concentration of observations in the 40s age group."
   ]
  },
  {
   "cell_type": "markdown",
   "metadata": {},
   "source": [
    "### Based on Sleep Disorder and Quality of Sleep"
   ]
  },
  {
   "cell_type": "code",
   "execution_count": null,
   "metadata": {
    "execution": {
     "iopub.status.busy": "2023-08-06T19:14:07.516619Z",
     "iopub.status.idle": "2023-08-06T19:14:07.517112Z",
     "shell.execute_reply": "2023-08-06T19:14:07.516970Z",
     "shell.execute_reply.started": "2023-08-06T19:14:07.516953Z"
    }
   },
   "outputs": [],
   "source": [
    "# Plotting a box plot for the relationship between the Sleep Disorder and Physical Activity Level\n",
    "fig = px.box(sleep_data, x=\"sleep_disorder\", y=\"physical_activity_level\",\n",
    "             title=\"Box plot of Physical Activity Level\")\n",
    "\n",
    "fig.update_layout(\n",
    "    xaxis_title=\"Sleep Disorder\",\n",
    "    yaxis_title=\"Physical Activity Level\",\n",
    ")\n",
    "\n",
    "fig.show()"
   ]
  },
  {
   "cell_type": "code",
   "execution_count": null,
   "metadata": {
    "execution": {
     "iopub.status.busy": "2023-08-06T19:14:07.517972Z",
     "iopub.status.idle": "2023-08-06T19:14:07.518500Z",
     "shell.execute_reply": "2023-08-06T19:14:07.518342Z",
     "shell.execute_reply.started": "2023-08-06T19:14:07.518323Z"
    }
   },
   "outputs": [],
   "source": [
    "# Two categorical variables plotted against each other\n",
    "# Plotting a box plot for the relationship between the Sleep Disorder and BMI Category\n",
    "fig = px.violin(sleep_data, x=\"sleep_disorder\", y=\"bmi_category\",\n",
    "             title=\"Box plot of BMI Category\")\n",
    "\n",
    "fig.update_layout(\n",
    "    xaxis_title=\"BMI Category\",\n",
    "    yaxis_title=\"Sleep Disorder\",\n",
    ")\n",
    "\n",
    "fig.show()"
   ]
  },
  {
   "cell_type": "code",
   "execution_count": null,
   "metadata": {
    "execution": {
     "iopub.status.busy": "2023-08-06T19:14:07.519473Z",
     "iopub.status.idle": "2023-08-06T19:14:07.520035Z",
     "shell.execute_reply": "2023-08-06T19:14:07.519870Z",
     "shell.execute_reply.started": "2023-08-06T19:14:07.519851Z"
    }
   },
   "outputs": [],
   "source": [
    "# Plotting a box plot for the relationship between the Quality of Sleep and Physical Activity Level\n",
    "fig = px.box(sleep_data, x=\"quality_of_sleep\", y=\"physical_activity_level\",\n",
    "             title=\"Box plot of Physical Activity Level\")\n",
    "\n",
    "fig.update_layout(\n",
    "    xaxis_title=\"Quality of Sleep\",\n",
    "    yaxis_title=\"Physical Activity Level\",\n",
    ")\n",
    "\n",
    "fig.show()"
   ]
  },
  {
   "cell_type": "code",
   "execution_count": null,
   "metadata": {
    "execution": {
     "iopub.status.busy": "2023-08-06T19:14:07.521057Z",
     "iopub.status.idle": "2023-08-06T19:14:07.521403Z",
     "shell.execute_reply": "2023-08-06T19:14:07.521242Z",
     "shell.execute_reply.started": "2023-08-06T19:14:07.521226Z"
    }
   },
   "outputs": [],
   "source": [
    "# Plotting a box plot for the relationship between the Sleep Disorder, Sleep Disorder, and Physical Activity Level\n",
    "fig = px.box(sleep_data, x=\"quality_of_sleep\", y=\"physical_activity_level\", color='sleep_disorder',\n",
    "             title=\"Box plot of Physical Activity Level\")\n",
    "\n",
    "fig.update_layout(\n",
    "    xaxis_title=\"Quality of Sleep\",\n",
    "    yaxis_title=\"Physical Activity Level (minutes/day)\",\n",
    ")\n",
    "\n",
    "fig.show()"
   ]
  },
  {
   "cell_type": "code",
   "execution_count": null,
   "metadata": {
    "execution": {
     "iopub.status.busy": "2023-08-06T19:14:07.522866Z",
     "iopub.status.idle": "2023-08-06T19:14:07.523584Z",
     "shell.execute_reply": "2023-08-06T19:14:07.523426Z",
     "shell.execute_reply.started": "2023-08-06T19:14:07.523408Z"
    }
   },
   "outputs": [],
   "source": [
    "# Plotting a box plot for the relationship between the Sleep Disorder and Stress Level\n",
    "fig = px.box(sleep_data, x=\"quality_of_sleep\", y=\"stress_level\",\n",
    "             title=\"Box plot of Stress Level\")\n",
    "\n",
    "fig.update_layout(\n",
    "    xaxis_title=\"Quality of Sleep\",\n",
    "    yaxis_title=\"Stress Level (1-10)\",\n",
    ")\n",
    "\n",
    "fig.show()"
   ]
  },
  {
   "cell_type": "code",
   "execution_count": null,
   "metadata": {
    "execution": {
     "iopub.status.busy": "2023-08-06T19:14:07.525075Z",
     "iopub.status.idle": "2023-08-06T19:14:07.525537Z",
     "shell.execute_reply": "2023-08-06T19:14:07.525328Z",
     "shell.execute_reply.started": "2023-08-06T19:14:07.525308Z"
    }
   },
   "outputs": [],
   "source": [
    "# Plotting a box plot for the relationship between the Quality of SLeep and BMI Category\n",
    "fig = px.box(sleep_data, x=\"bmi_category\", y=\"quality_of_sleep\",\n",
    "             title=\"Box plot of BMI Category\")\n",
    "\n",
    "fig.update_layout(\n",
    "    xaxis_title=\"BMI Category\",\n",
    "    yaxis_title=\"Quality of Sleep\",\n",
    ")\n",
    "\n",
    "fig.show()"
   ]
  },
  {
   "cell_type": "code",
   "execution_count": null,
   "metadata": {
    "execution": {
     "iopub.status.busy": "2023-08-06T19:14:07.527624Z",
     "iopub.status.idle": "2023-08-06T19:14:07.528157Z",
     "shell.execute_reply": "2023-08-06T19:14:07.527882Z",
     "shell.execute_reply.started": "2023-08-06T19:14:07.527860Z"
    }
   },
   "outputs": [],
   "source": [
    "# Plotting a box plot for the relationship between the Quality of SLeep and Age\n",
    "fig = px.box(sleep_data, x=\"quality_of_sleep\", y=\"age\",\n",
    "             title=\"Box plot Age\")\n",
    "\n",
    "fig.update_layout(\n",
    "    xaxis_title=\"Quality of Sleep\",\n",
    "    yaxis_title=\"Age\",\n",
    ")\n",
    "\n",
    "fig.show()"
   ]
  },
  {
   "cell_type": "markdown",
   "metadata": {},
   "source": [
    "***Main Conclusions***\n",
    "* We can see that the BMI Category can be a very important factor in determining wether the person has a sleep disorder\n",
    "\n",
    "* Individuals with higher levels of physical activity demonstrate better sleep quality, suggesting a positive correlation between physical activity and sleep quality.\n",
    "\n",
    "* The presence of a sleep disorder does not appear to show a significant correlation with the level of physical activity. The two factors seem to be unrelated.\n",
    "\n",
    "* A clear negative correlation is observed between stress levels and sleep quality, implying that higher stress levels are associated with lower sleep quality.\n",
    "\n",
    "* Older individuals tend to experience better sleep quality on average, indicating a positive correlation between age and sleep quality."
   ]
  },
  {
   "cell_type": "code",
   "execution_count": null,
   "metadata": {
    "execution": {
     "iopub.status.busy": "2023-08-06T19:14:07.529609Z",
     "iopub.status.idle": "2023-08-06T19:14:07.530396Z",
     "shell.execute_reply": "2023-08-06T19:14:07.530140Z",
     "shell.execute_reply.started": "2023-08-06T19:14:07.530117Z"
    }
   },
   "outputs": [],
   "source": [
    "# A heatmap represeting the correlation between the numerical variables in the dataset\n",
    "corr = px.imshow(sleep_data.corr(numeric_only=True),)\n",
    "corr.show()"
   ]
  },
  {
   "cell_type": "markdown",
   "metadata": {},
   "source": [
    "## 3. Preparing Data for Modeling"
   ]
  },
  {
   "cell_type": "code",
   "execution_count": null,
   "metadata": {
    "execution": {
     "iopub.status.busy": "2023-08-06T19:14:07.531689Z",
     "iopub.status.idle": "2023-08-06T19:14:07.532183Z",
     "shell.execute_reply": "2023-08-06T19:14:07.531968Z",
     "shell.execute_reply.started": "2023-08-06T19:14:07.531945Z"
    }
   },
   "outputs": [],
   "source": [
    "sleep_data.head()"
   ]
  },
  {
   "cell_type": "markdown",
   "metadata": {},
   "source": [
    "Transforming Categorical features into Numerical features with the help of `scikit-learn`"
   ]
  },
  {
   "cell_type": "code",
   "execution_count": null,
   "metadata": {
    "execution": {
     "iopub.status.busy": "2023-08-06T19:14:07.533668Z",
     "iopub.status.idle": "2023-08-06T19:14:07.534193Z",
     "shell.execute_reply": "2023-08-06T19:14:07.533931Z",
     "shell.execute_reply.started": "2023-08-06T19:14:07.533911Z"
    }
   },
   "outputs": [],
   "source": [
    "le = LabelEncoder()\n",
    "sleep_data['gender'] = le.fit_transform(sleep_data['gender'])\n",
    "sleep_data['occupation'] = le.fit_transform(sleep_data['occupation'])\n",
    "sleep_data['bmi_category'] = le.fit_transform(sleep_data['bmi_category'])\n",
    "sleep_data['sleep_disorder'] = le.fit_transform(sleep_data['sleep_disorder'])\n",
    "\n",
    "sleep_data.head()"
   ]
  },
  {
   "cell_type": "markdown",
   "metadata": {},
   "source": [
    "Removing outliers using the `IQR` method"
   ]
  },
  {
   "cell_type": "code",
   "execution_count": null,
   "metadata": {
    "execution": {
     "iopub.status.busy": "2023-08-06T19:14:07.536912Z",
     "iopub.status.idle": "2023-08-06T19:14:07.537438Z",
     "shell.execute_reply": "2023-08-06T19:14:07.537198Z",
     "shell.execute_reply.started": "2023-08-06T19:14:07.537176Z"
    }
   },
   "outputs": [],
   "source": [
    "# The columns to remove outliers from\n",
    "num_col = ['age', 'sleep_duration', 'quality_of_sleep', 'physical_activity_level', 'stress_level',\n",
    "           'heart_rate', 'daily_steps', 'diastolic', 'systolic']\n",
    "\n",
    "# Computing IQR\n",
    "Q1 = sleep_data[num_col].quantile(0.25)\n",
    "Q3 = sleep_data[num_col].quantile(0.75)\n",
    "IQR = Q3 - Q1\n",
    "\n",
    "# Removing outliers\n",
    "sleep_data = sleep_data[~((sleep_data[num_col] < (Q1 - 1.5 * IQR)) |\n",
    "                          (sleep_data[num_col] > (Q3 + 1.5 * IQR))).any(axis=1)]"
   ]
  },
  {
   "cell_type": "markdown",
   "metadata": {},
   "source": [
    "## 4. Creating Training and Testing Sets"
   ]
  },
  {
   "cell_type": "markdown",
   "metadata": {},
   "source": [
    "* Splitting the data into features `X` and targets `y`\n",
    "* The target is the `sleep disorder` column"
   ]
  },
  {
   "cell_type": "code",
   "execution_count": null,
   "metadata": {
    "execution": {
     "iopub.status.busy": "2023-08-06T19:14:07.539257Z",
     "iopub.status.idle": "2023-08-06T19:14:07.539767Z",
     "shell.execute_reply": "2023-08-06T19:14:07.539592Z",
     "shell.execute_reply.started": "2023-08-06T19:14:07.539576Z"
    }
   },
   "outputs": [],
   "source": [
    "X = sleep_data.drop(['sleep_disorder'], axis=1)\n",
    "y = sleep_data['sleep_disorder']"
   ]
  },
  {
   "cell_type": "markdown",
   "metadata": {},
   "source": [
    "Splitting the data into training and testing sets using the`train_test_split` method"
   ]
  },
  {
   "cell_type": "code",
   "execution_count": null,
   "metadata": {
    "execution": {
     "iopub.status.busy": "2023-08-06T19:14:07.540824Z",
     "iopub.status.idle": "2023-08-06T19:14:07.541301Z",
     "shell.execute_reply": "2023-08-06T19:14:07.541158Z",
     "shell.execute_reply.started": "2023-08-06T19:14:07.541142Z"
    }
   },
   "outputs": [],
   "source": [
    "X_train, X_test, y_train, y_test = train_test_split(\n",
    "    X, y, test_size=0.2, random_state=2)"
   ]
  },
  {
   "cell_type": "markdown",
   "metadata": {},
   "source": [
    "Standardize the training and testing data using `StandardScaler` (mean=0, std=1)"
   ]
  },
  {
   "cell_type": "code",
   "execution_count": null,
   "metadata": {
    "execution": {
     "iopub.status.busy": "2023-08-06T19:14:07.542143Z",
     "iopub.status.idle": "2023-08-06T19:14:07.542643Z",
     "shell.execute_reply": "2023-08-06T19:14:07.542488Z",
     "shell.execute_reply.started": "2023-08-06T19:14:07.542471Z"
    }
   },
   "outputs": [],
   "source": [
    "scaler = StandardScaler()\n",
    "X_train_scaled = scaler.fit_transform(X_train)\n",
    "X_test_scaled = scaler.transform(X_test)"
   ]
  },
  {
   "cell_type": "markdown",
   "metadata": {},
   "source": [
    "## 5. Creating and Evaluating the models\n",
    "\n",
    "Now that we have the data ready to be used, we will create multiple models and evaluate them using `Kfold` and `cross_val_score` from `sklearn.model_selection`.\n",
    "\n",
    "We will be using the following models: Decision Tree, Random Forest, Logistic Regression, KNN, and XGBoost."
   ]
  },
  {
   "cell_type": "code",
   "execution_count": null,
   "metadata": {
    "execution": {
     "iopub.status.busy": "2023-08-06T19:14:07.543872Z",
     "iopub.status.idle": "2023-08-06T19:14:07.544199Z",
     "shell.execute_reply": "2023-08-06T19:14:07.544054Z",
     "shell.execute_reply.started": "2023-08-06T19:14:07.544038Z"
    }
   },
   "outputs": [],
   "source": [
    "model_list = [\n",
    "    ('Decision Tree Classifier', DecisionTreeClassifier()),\n",
    "    ('Random Forest', RandomForestClassifier(n_estimators=100, max_features=3)),\n",
    "    ('KNN', KNeighborsClassifier()),\n",
    "    ('LogReg', LogisticRegression()),\n",
    "    ('XGB', XGBClassifier())\n",
    "]\n",
    "\n",
    "results_scaled = []\n",
    "names_of_models = []\n",
    "\n",
    "for name, model in model_list:\n",
    "    kfold = KFold(n_splits=5, random_state=7, shuffle=True)\n",
    "    cv_results = cross_val_score(\n",
    "        model, X_train_scaled, y_train, cv=kfold, scoring='accuracy')\n",
    "    results_scaled.append(cv_results)\n",
    "    names_of_models.append(name)\n",
    "df_results_scaled = pd.DataFrame(results_scaled, index=names_of_models)\n",
    "df_results_scaled = df_results_scaled.transpose()\n",
    "\n",
    "df_results_scaled"
   ]
  },
  {
   "cell_type": "code",
   "execution_count": null,
   "metadata": {
    "execution": {
     "iopub.status.busy": "2023-08-06T19:14:07.545207Z",
     "iopub.status.idle": "2023-08-06T19:14:07.545938Z",
     "shell.execute_reply": "2023-08-06T19:14:07.545742Z",
     "shell.execute_reply.started": "2023-08-06T19:14:07.545697Z"
    }
   },
   "outputs": [],
   "source": [
    "df_results_scaled.mean()"
   ]
  },
  {
   "cell_type": "markdown",
   "metadata": {},
   "source": [
    "* ***Random Forest, Logistic Regression, and XGBoost have the highest overall accuracy***\n",
    "\n",
    "* ***The 3 models will be implemented evaluated using additional metrics***"
   ]
  },
  {
   "cell_type": "markdown",
   "metadata": {},
   "source": [
    "### 1. Logistic Regression\n",
    "Creating and Fitting the Logistic Regression model to the training set"
   ]
  },
  {
   "cell_type": "code",
   "execution_count": null,
   "metadata": {
    "execution": {
     "iopub.status.busy": "2023-08-06T19:14:07.547015Z",
     "iopub.status.idle": "2023-08-06T19:14:07.547801Z",
     "shell.execute_reply": "2023-08-06T19:14:07.547548Z",
     "shell.execute_reply.started": "2023-08-06T19:14:07.547520Z"
    }
   },
   "outputs": [],
   "source": [
    "log_reg_model = LogisticRegression().fit(X_train_scaled,y_train)"
   ]
  },
  {
   "cell_type": "markdown",
   "metadata": {},
   "source": [
    "***Creating and Plotting the Confusion Matrix for the Test Set***"
   ]
  },
  {
   "cell_type": "code",
   "execution_count": null,
   "metadata": {
    "execution": {
     "iopub.status.busy": "2023-08-06T19:14:07.549230Z",
     "iopub.status.idle": "2023-08-06T19:14:07.549584Z",
     "shell.execute_reply": "2023-08-06T19:14:07.549424Z",
     "shell.execute_reply.started": "2023-08-06T19:14:07.549407Z"
    }
   },
   "outputs": [],
   "source": [
    "# Getting the predictions for the test set\n",
    "pred = log_reg_model.predict(X_test_scaled)\n",
    "\n",
    "# Creating the confusion matrix\n",
    "c = confusion_matrix(y_test, pred)\n",
    "\n",
    "# Plotting the confusion matrix\n",
    "plt.figure(figsize=(8, 6))\n",
    "sns.set(font_scale=1.2)  # Adjust font size for labels\n",
    "sns.heatmap(c, annot=True, fmt='d', cmap='Blues')\n",
    "plt.xlabel('Predicted')\n",
    "plt.ylabel('Actual')\n",
    "plt.title('Confusion Matrix')\n",
    "plt.show()"
   ]
  },
  {
   "cell_type": "code",
   "execution_count": null,
   "metadata": {
    "execution": {
     "iopub.status.busy": "2023-08-06T19:14:07.551662Z",
     "iopub.status.idle": "2023-08-06T19:14:07.552058Z",
     "shell.execute_reply": "2023-08-06T19:14:07.551907Z",
     "shell.execute_reply.started": "2023-08-06T19:14:07.551890Z"
    }
   },
   "outputs": [],
   "source": [
    "print('\\nAccuracy: {:.4f}\\n'.format(accuracy_score(y_test, pred)))\n",
    "\n",
    "print('Micro Precision: {:.2f}'.format(\n",
    "    precision_score(y_test, pred, average='micro')))\n",
    "print('Micro Recall: {:.2f}'.format(\n",
    "    recall_score(y_test, pred, average='micro')))\n",
    "print(\n",
    "    'Micro F1-score: {:.2f}\\n'.format(f1_score(y_test, pred, average='micro')))\n",
    "\n",
    "print('Macro Precision: {:.2f}'.format(\n",
    "    precision_score(y_test, pred, average='macro')))\n",
    "print('Macro Recall: {:.2f}'.format(\n",
    "    recall_score(y_test, pred, average='macro')))\n",
    "print(\n",
    "    'Macro F1-score: {:.2f}\\n'.format(f1_score(y_test, pred, average='macro')))\n",
    "\n",
    "print('Weighted Precision: {:.2f}'.format(\n",
    "    precision_score(y_test, pred, average='weighted')))\n",
    "print('Weighted Recall: {:.2f}'.format(\n",
    "    recall_score(y_test, pred, average='weighted')))\n",
    "print(\n",
    "    'Weighted F1-score: {:.2f}'.format(f1_score(y_test, pred, average='weighted')))\n",
    "\n",
    "print('\\nClassification Report\\n')\n",
    "print(classification_report(y_test, pred, target_names=[\n",
    "      'Insomnia', 'None', 'Sleep Apnea']))"
   ]
  },
  {
   "cell_type": "markdown",
   "metadata": {},
   "source": [
    "### 2. Random Forest\n",
    "Creating and Fitting the Random Forest model to the training set"
   ]
  },
  {
   "cell_type": "code",
   "execution_count": null,
   "metadata": {
    "execution": {
     "iopub.status.busy": "2023-08-06T19:14:07.553518Z",
     "iopub.status.idle": "2023-08-06T19:14:07.553900Z",
     "shell.execute_reply": "2023-08-06T19:14:07.553713Z",
     "shell.execute_reply.started": "2023-08-06T19:14:07.553697Z"
    }
   },
   "outputs": [],
   "source": [
    "random_forest_model = RandomForestClassifier().fit(X_train_scaled,y_train)"
   ]
  },
  {
   "cell_type": "markdown",
   "metadata": {},
   "source": [
    "***Creating and Plotting the Confusion Matrix for the Test Set***"
   ]
  },
  {
   "cell_type": "code",
   "execution_count": null,
   "metadata": {
    "execution": {
     "iopub.status.busy": "2023-08-06T19:14:07.555110Z",
     "iopub.status.idle": "2023-08-06T19:14:07.555409Z",
     "shell.execute_reply": "2023-08-06T19:14:07.555273Z",
     "shell.execute_reply.started": "2023-08-06T19:14:07.555259Z"
    }
   },
   "outputs": [],
   "source": [
    "# Getting the predictions for the test set\n",
    "pred = random_forest_model.predict(X_test_scaled)\n",
    "\n",
    "# Creating the confusion matrix\n",
    "c = confusion_matrix(y_test, pred)\n",
    "\n",
    "# Plotting the confusion matrix\n",
    "plt.figure(figsize=(8, 6))\n",
    "sns.set(font_scale=1.2)  # Adjust font size for labels\n",
    "sns.heatmap(c, annot=True, fmt='d', cmap='Blues')\n",
    "plt.xlabel('Predicted')\n",
    "plt.ylabel('Actual')\n",
    "plt.title('Confusion Matrix')\n",
    "plt.show()"
   ]
  },
  {
   "cell_type": "code",
   "execution_count": null,
   "metadata": {
    "execution": {
     "iopub.status.busy": "2023-08-06T19:14:07.557047Z",
     "iopub.status.idle": "2023-08-06T19:14:07.557371Z",
     "shell.execute_reply": "2023-08-06T19:14:07.557225Z",
     "shell.execute_reply.started": "2023-08-06T19:14:07.557210Z"
    }
   },
   "outputs": [],
   "source": [
    "print('\\nAccuracy: {:.4f}\\n'.format(accuracy_score(y_test, pred)))\n",
    "\n",
    "print('Micro Precision: {:.2f}'.format(\n",
    "    precision_score(y_test, pred, average='micro')))\n",
    "print('Micro Recall: {:.2f}'.format(\n",
    "    recall_score(y_test, pred, average='micro')))\n",
    "print(\n",
    "    'Micro F1-score: {:.2f}\\n'.format(f1_score(y_test, pred, average='micro')))\n",
    "\n",
    "print('Macro Precision: {:.2f}'.format(\n",
    "    precision_score(y_test, pred, average='macro')))\n",
    "print('Macro Recall: {:.2f}'.format(\n",
    "    recall_score(y_test, pred, average='macro')))\n",
    "print(\n",
    "    'Macro F1-score: {:.2f}\\n'.format(f1_score(y_test, pred, average='macro')))\n",
    "\n",
    "print('Weighted Precision: {:.2f}'.format(\n",
    "    precision_score(y_test, pred, average='weighted')))\n",
    "print('Weighted Recall: {:.2f}'.format(\n",
    "    recall_score(y_test, pred, average='weighted')))\n",
    "print(\n",
    "    'Weighted F1-score: {:.2f}'.format(f1_score(y_test, pred, average='weighted')))\n",
    "\n",
    "print('\\nClassification Report\\n')\n",
    "print(classification_report(y_test, pred, target_names=[\n",
    "      'Insomnia', 'None', 'Sleep Apnea']))"
   ]
  },
  {
   "cell_type": "code",
   "execution_count": null,
   "metadata": {
    "execution": {
     "iopub.status.busy": "2023-08-06T19:14:07.558441Z",
     "iopub.status.idle": "2023-08-06T19:14:07.559068Z",
     "shell.execute_reply": "2023-08-06T19:14:07.558865Z",
     "shell.execute_reply.started": "2023-08-06T19:14:07.558841Z"
    }
   },
   "outputs": [],
   "source": [
    "# Feature importances of the model for each feature in Random Forest Classifier\n",
    "\n",
    "feature_importances = random_forest_model.feature_importances_\n",
    "\n",
    "feature_names = X_train.columns\n",
    "importance_df = pd.DataFrame(\n",
    "    {'Feature': feature_names, 'Importance': feature_importances})\n",
    "importance_df = importance_df.sort_values(by='Importance', ascending=False)\n",
    "\n",
    "print(importance_df)"
   ]
  },
  {
   "cell_type": "markdown",
   "metadata": {},
   "source": [
    "### 3. XGBoost\n",
    "Creating and Fitting the XGBoost model to the training set"
   ]
  },
  {
   "cell_type": "code",
   "execution_count": null,
   "metadata": {
    "execution": {
     "iopub.status.busy": "2023-08-06T19:14:07.560070Z",
     "iopub.status.idle": "2023-08-06T19:14:07.560621Z",
     "shell.execute_reply": "2023-08-06T19:14:07.560446Z",
     "shell.execute_reply.started": "2023-08-06T19:14:07.560418Z"
    }
   },
   "outputs": [],
   "source": [
    "xgb_model = XGBClassifier().fit(X_train_scaled,y_train)"
   ]
  },
  {
   "cell_type": "markdown",
   "metadata": {},
   "source": [
    "***Creating and Plotting the Confusion Matrix for the Test Set***"
   ]
  },
  {
   "cell_type": "code",
   "execution_count": null,
   "metadata": {
    "execution": {
     "iopub.status.busy": "2023-08-06T19:14:07.561799Z",
     "iopub.status.idle": "2023-08-06T19:14:07.562167Z",
     "shell.execute_reply": "2023-08-06T19:14:07.562006Z",
     "shell.execute_reply.started": "2023-08-06T19:14:07.561989Z"
    }
   },
   "outputs": [],
   "source": [
    "# Getting the predictions for the test set\n",
    "pred = xgb_model.predict(X_test_scaled)\n",
    "\n",
    "# Creating the confusion matrix\n",
    "c = confusion_matrix(y_test, pred)\n",
    "\n",
    "# Plotting the confusion matrix\n",
    "plt.figure(figsize=(8, 6))\n",
    "sns.set(font_scale=1.2)  # Adjust font size for labels\n",
    "sns.heatmap(c, annot=True, fmt='d', cmap='Blues')\n",
    "plt.xlabel('Predicted')\n",
    "plt.ylabel('Actual')\n",
    "plt.title('Confusion Matrix')\n",
    "plt.show()"
   ]
  },
  {
   "cell_type": "code",
   "execution_count": null,
   "metadata": {
    "execution": {
     "iopub.status.busy": "2023-08-06T19:14:07.563753Z",
     "iopub.status.idle": "2023-08-06T19:14:07.564260Z",
     "shell.execute_reply": "2023-08-06T19:14:07.564101Z",
     "shell.execute_reply.started": "2023-08-06T19:14:07.564083Z"
    }
   },
   "outputs": [],
   "source": [
    "print('\\nAccuracy: {:.4f}\\n'.format(accuracy_score(y_test, pred)))\n",
    "\n",
    "print('Micro Precision: {:.2f}'.format(\n",
    "    precision_score(y_test, pred, average='micro')))\n",
    "print('Micro Recall: {:.2f}'.format(\n",
    "    recall_score(y_test, pred, average='micro')))\n",
    "print(\n",
    "    'Micro F1-score: {:.2f}\\n'.format(f1_score(y_test, pred, average='micro')))\n",
    "\n",
    "print('Macro Precision: {:.2f}'.format(\n",
    "    precision_score(y_test, pred, average='macro')))\n",
    "print('Macro Recall: {:.2f}'.format(\n",
    "    recall_score(y_test, pred, average='macro')))\n",
    "print(\n",
    "    'Macro F1-score: {:.2f}\\n'.format(f1_score(y_test, pred, average='macro')))\n",
    "\n",
    "print('Weighted Precision: {:.2f}'.format(\n",
    "    precision_score(y_test, pred, average='weighted')))\n",
    "print('Weighted Recall: {:.2f}'.format(\n",
    "    recall_score(y_test, pred, average='weighted')))\n",
    "print(\n",
    "    'Weighted F1-score: {:.2f}'.format(f1_score(y_test, pred, average='weighted')))\n",
    "\n",
    "print('\\nClassification Report\\n')\n",
    "print(classification_report(y_test, pred, target_names=[\n",
    "      'Insomnia', 'None', 'Sleep Apnea']))"
   ]
  },
  {
   "cell_type": "code",
   "execution_count": null,
   "metadata": {
    "execution": {
     "iopub.status.busy": "2023-08-06T19:14:07.565344Z",
     "iopub.status.idle": "2023-08-06T19:14:07.565918Z",
     "shell.execute_reply": "2023-08-06T19:14:07.565756Z",
     "shell.execute_reply.started": "2023-08-06T19:14:07.565713Z"
    }
   },
   "outputs": [],
   "source": [
    "# Feature importances of the model for each feature in Random Forest Classifier\n",
    "\n",
    "feature_importances = xgb_model.feature_importances_\n",
    "\n",
    "feature_names = X_train.columns\n",
    "importance_df = pd.DataFrame(\n",
    "    {'Feature': feature_names, 'Importance': feature_importances})\n",
    "importance_df = importance_df.sort_values(by='Importance', ascending=False)\n",
    "\n",
    "print(importance_df)"
   ]
  },
  {
   "cell_type": "markdown",
   "metadata": {},
   "source": [
    "## 6. Results and Conclusion"
   ]
  },
  {
   "cell_type": "markdown",
   "metadata": {},
   "source": [
    "1. Logistic Regression had an accuracy of 0.90 and a weighted f1 score of 0.90\n",
    "\n",
    "2. Random Forest had an accuracy of 0.916 and a weighted f1 score of 0.92\n",
    "\n",
    "3. XGBoost had an accuracy of 0.93 and a weighted f1 score of 0.93"
   ]
  },
  {
   "cell_type": "markdown",
   "metadata": {},
   "source": [
    "In our data exploration and analysis we assumed that the BMI Category was a strong indicator of the existance of a sleep disorder, our most reliable model `XGBoost` also showed that the BMI Category was the most important feature in predicting the existance of a sleep disorder."
   ]
  }
 ],
 "metadata": {
  "kernelspec": {
   "display_name": "Python 3 (ipykernel)",
   "language": "python",
   "name": "python3"
  },
  "language_info": {
   "codemirror_mode": {
    "name": "ipython",
    "version": 3
   },
   "file_extension": ".py",
   "mimetype": "text/x-python",
   "name": "python",
   "nbconvert_exporter": "python",
   "pygments_lexer": "ipython3",
   "version": "3.9.7"
  }
 },
 "nbformat": 4,
 "nbformat_minor": 4
}
